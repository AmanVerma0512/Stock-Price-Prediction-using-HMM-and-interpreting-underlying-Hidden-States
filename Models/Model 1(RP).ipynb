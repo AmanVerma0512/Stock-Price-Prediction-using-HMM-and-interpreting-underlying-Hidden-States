{
 "cells": [
  {
   "cell_type": "markdown",
   "metadata": {},
   "source": [
    "# Importing Libraries "
   ]
  },
  {
   "cell_type": "code",
   "execution_count": 1,
   "metadata": {},
   "outputs": [],
   "source": [
    "import pandas as pd\n",
    "import numpy as np\n",
    "import sys"
   ]
  },
  {
   "cell_type": "markdown",
   "metadata": {},
   "source": [
    "### Importing Data as pandas dataframe and preprocessing it"
   ]
  },
  {
   "cell_type": "code",
   "execution_count": 84,
   "metadata": {},
   "outputs": [],
   "source": [
    "df = pd.read_csv(r\"C:\\Users\\Aman-Verma\\Downloads\\ASP Transition Matrix and HMM\\DWJ\\2010-20.csv\",error_bad_lines=False)"
   ]
  },
  {
   "cell_type": "code",
   "execution_count": 85,
   "metadata": {},
   "outputs": [],
   "source": [
    "df = df.drop('High',axis=1)\n",
    "df = df.drop('Low',axis=1)\n",
    "df = df.drop('Adj Close',axis=1)\n",
    "df = df.drop('Volume',axis=1)"
   ]
  },
  {
   "cell_type": "code",
   "execution_count": 86,
   "metadata": {},
   "outputs": [
    {
     "data": {
      "text/html": [
       "<div>\n",
       "<style scoped>\n",
       "    .dataframe tbody tr th:only-of-type {\n",
       "        vertical-align: middle;\n",
       "    }\n",
       "\n",
       "    .dataframe tbody tr th {\n",
       "        vertical-align: top;\n",
       "    }\n",
       "\n",
       "    .dataframe thead th {\n",
       "        text-align: right;\n",
       "    }\n",
       "</style>\n",
       "<table border=\"1\" class=\"dataframe\">\n",
       "  <thead>\n",
       "    <tr style=\"text-align: right;\">\n",
       "      <th></th>\n",
       "      <th>Open</th>\n",
       "      <th>Close</th>\n",
       "    </tr>\n",
       "  </thead>\n",
       "  <tbody>\n",
       "    <tr>\n",
       "      <th>count</th>\n",
       "      <td>2516.000000</td>\n",
       "      <td>2516.000000</td>\n",
       "    </tr>\n",
       "    <tr>\n",
       "      <th>mean</th>\n",
       "      <td>17601.997740</td>\n",
       "      <td>17606.741572</td>\n",
       "    </tr>\n",
       "    <tr>\n",
       "      <th>std</th>\n",
       "      <td>5148.425941</td>\n",
       "      <td>5147.050113</td>\n",
       "    </tr>\n",
       "    <tr>\n",
       "      <th>min</th>\n",
       "      <td>9686.480469</td>\n",
       "      <td>9686.480469</td>\n",
       "    </tr>\n",
       "    <tr>\n",
       "      <th>25%</th>\n",
       "      <td>12977.189942</td>\n",
       "      <td>12981.207276</td>\n",
       "    </tr>\n",
       "    <tr>\n",
       "      <th>50%</th>\n",
       "      <td>17011.075196</td>\n",
       "      <td>17008.229492</td>\n",
       "    </tr>\n",
       "    <tr>\n",
       "      <th>75%</th>\n",
       "      <td>21426.617188</td>\n",
       "      <td>21411.106934</td>\n",
       "    </tr>\n",
       "    <tr>\n",
       "      <th>max</th>\n",
       "      <td>28675.339844</td>\n",
       "      <td>28645.259766</td>\n",
       "    </tr>\n",
       "  </tbody>\n",
       "</table>\n",
       "</div>"
      ],
      "text/plain": [
       "               Open         Close\n",
       "count   2516.000000   2516.000000\n",
       "mean   17601.997740  17606.741572\n",
       "std     5148.425941   5147.050113\n",
       "min     9686.480469   9686.480469\n",
       "25%    12977.189942  12981.207276\n",
       "50%    17011.075196  17008.229492\n",
       "75%    21426.617188  21411.106934\n",
       "max    28675.339844  28645.259766"
      ]
     },
     "execution_count": 86,
     "metadata": {},
     "output_type": "execute_result"
    }
   ],
   "source": [
    "df.describe()"
   ]
  },
  {
   "cell_type": "code",
   "execution_count": 87,
   "metadata": {},
   "outputs": [
    {
     "data": {
      "text/html": [
       "<div>\n",
       "<style scoped>\n",
       "    .dataframe tbody tr th:only-of-type {\n",
       "        vertical-align: middle;\n",
       "    }\n",
       "\n",
       "    .dataframe tbody tr th {\n",
       "        vertical-align: top;\n",
       "    }\n",
       "\n",
       "    .dataframe thead th {\n",
       "        text-align: right;\n",
       "    }\n",
       "</style>\n",
       "<table border=\"1\" class=\"dataframe\">\n",
       "  <thead>\n",
       "    <tr style=\"text-align: right;\">\n",
       "      <th></th>\n",
       "      <th>Date</th>\n",
       "      <th>Open</th>\n",
       "      <th>Close</th>\n",
       "    </tr>\n",
       "  </thead>\n",
       "  <tbody>\n",
       "    <tr>\n",
       "      <th>0</th>\n",
       "      <td>2010-01-04</td>\n",
       "      <td>10430.690430</td>\n",
       "      <td>10583.959961</td>\n",
       "    </tr>\n",
       "    <tr>\n",
       "      <th>1</th>\n",
       "      <td>2010-01-05</td>\n",
       "      <td>10584.559570</td>\n",
       "      <td>10572.019531</td>\n",
       "    </tr>\n",
       "    <tr>\n",
       "      <th>2</th>\n",
       "      <td>2010-01-06</td>\n",
       "      <td>10564.719727</td>\n",
       "      <td>10573.679688</td>\n",
       "    </tr>\n",
       "    <tr>\n",
       "      <th>3</th>\n",
       "      <td>2010-01-07</td>\n",
       "      <td>10571.110352</td>\n",
       "      <td>10606.860352</td>\n",
       "    </tr>\n",
       "    <tr>\n",
       "      <th>4</th>\n",
       "      <td>2010-01-08</td>\n",
       "      <td>10606.400391</td>\n",
       "      <td>10618.190430</td>\n",
       "    </tr>\n",
       "  </tbody>\n",
       "</table>\n",
       "</div>"
      ],
      "text/plain": [
       "         Date          Open         Close\n",
       "0  2010-01-04  10430.690430  10583.959961\n",
       "1  2010-01-05  10584.559570  10572.019531\n",
       "2  2010-01-06  10564.719727  10573.679688\n",
       "3  2010-01-07  10571.110352  10606.860352\n",
       "4  2010-01-08  10606.400391  10618.190430"
      ]
     },
     "execution_count": 87,
     "metadata": {},
     "output_type": "execute_result"
    }
   ],
   "source": [
    "df.head()"
   ]
  },
  {
   "cell_type": "markdown",
   "metadata": {},
   "source": [
    "### Setting up the parameters for the model "
   ]
  },
  {
   "cell_type": "code",
   "execution_count": 88,
   "metadata": {},
   "outputs": [],
   "source": [
    "df['Difference'] = df['Close'] - df['Open']\n",
    "df['Difference Mod'] = df['Difference'].abs()"
   ]
  },
  {
   "cell_type": "code",
   "execution_count": 89,
   "metadata": {},
   "outputs": [
    {
     "data": {
      "text/html": [
       "<div>\n",
       "<style scoped>\n",
       "    .dataframe tbody tr th:only-of-type {\n",
       "        vertical-align: middle;\n",
       "    }\n",
       "\n",
       "    .dataframe tbody tr th {\n",
       "        vertical-align: top;\n",
       "    }\n",
       "\n",
       "    .dataframe thead th {\n",
       "        text-align: right;\n",
       "    }\n",
       "</style>\n",
       "<table border=\"1\" class=\"dataframe\">\n",
       "  <thead>\n",
       "    <tr style=\"text-align: right;\">\n",
       "      <th></th>\n",
       "      <th>Date</th>\n",
       "      <th>Open</th>\n",
       "      <th>Close</th>\n",
       "      <th>Difference</th>\n",
       "      <th>Difference Mod</th>\n",
       "    </tr>\n",
       "  </thead>\n",
       "  <tbody>\n",
       "    <tr>\n",
       "      <th>0</th>\n",
       "      <td>2010-01-04</td>\n",
       "      <td>10430.690430</td>\n",
       "      <td>10583.959961</td>\n",
       "      <td>153.269531</td>\n",
       "      <td>153.269531</td>\n",
       "    </tr>\n",
       "    <tr>\n",
       "      <th>1</th>\n",
       "      <td>2010-01-05</td>\n",
       "      <td>10584.559570</td>\n",
       "      <td>10572.019531</td>\n",
       "      <td>-12.540039</td>\n",
       "      <td>12.540039</td>\n",
       "    </tr>\n",
       "    <tr>\n",
       "      <th>2</th>\n",
       "      <td>2010-01-06</td>\n",
       "      <td>10564.719727</td>\n",
       "      <td>10573.679688</td>\n",
       "      <td>8.959961</td>\n",
       "      <td>8.959961</td>\n",
       "    </tr>\n",
       "    <tr>\n",
       "      <th>3</th>\n",
       "      <td>2010-01-07</td>\n",
       "      <td>10571.110352</td>\n",
       "      <td>10606.860352</td>\n",
       "      <td>35.750000</td>\n",
       "      <td>35.750000</td>\n",
       "    </tr>\n",
       "    <tr>\n",
       "      <th>4</th>\n",
       "      <td>2010-01-08</td>\n",
       "      <td>10606.400391</td>\n",
       "      <td>10618.190430</td>\n",
       "      <td>11.790039</td>\n",
       "      <td>11.790039</td>\n",
       "    </tr>\n",
       "  </tbody>\n",
       "</table>\n",
       "</div>"
      ],
      "text/plain": [
       "         Date          Open         Close  Difference  Difference Mod\n",
       "0  2010-01-04  10430.690430  10583.959961  153.269531      153.269531\n",
       "1  2010-01-05  10584.559570  10572.019531  -12.540039       12.540039\n",
       "2  2010-01-06  10564.719727  10573.679688    8.959961        8.959961\n",
       "3  2010-01-07  10571.110352  10606.860352   35.750000       35.750000\n",
       "4  2010-01-08  10606.400391  10618.190430   11.790039       11.790039"
      ]
     },
     "execution_count": 89,
     "metadata": {},
     "output_type": "execute_result"
    }
   ],
   "source": [
    "df.head()"
   ]
  },
  {
   "cell_type": "code",
   "execution_count": 90,
   "metadata": {},
   "outputs": [
    {
     "data": {
      "text/html": [
       "<div>\n",
       "<style scoped>\n",
       "    .dataframe tbody tr th:only-of-type {\n",
       "        vertical-align: middle;\n",
       "    }\n",
       "\n",
       "    .dataframe tbody tr th {\n",
       "        vertical-align: top;\n",
       "    }\n",
       "\n",
       "    .dataframe thead th {\n",
       "        text-align: right;\n",
       "    }\n",
       "</style>\n",
       "<table border=\"1\" class=\"dataframe\">\n",
       "  <thead>\n",
       "    <tr style=\"text-align: right;\">\n",
       "      <th></th>\n",
       "      <th>Open</th>\n",
       "      <th>Close</th>\n",
       "      <th>Difference</th>\n",
       "      <th>Difference Mod</th>\n",
       "    </tr>\n",
       "  </thead>\n",
       "  <tbody>\n",
       "    <tr>\n",
       "      <th>count</th>\n",
       "      <td>2516.000000</td>\n",
       "      <td>2516.000000</td>\n",
       "      <td>2516.000000</td>\n",
       "      <td>2516.000000</td>\n",
       "    </tr>\n",
       "    <tr>\n",
       "      <th>mean</th>\n",
       "      <td>17601.997740</td>\n",
       "      <td>17606.741572</td>\n",
       "      <td>4.743833</td>\n",
       "      <td>96.232042</td>\n",
       "    </tr>\n",
       "    <tr>\n",
       "      <th>std</th>\n",
       "      <td>5148.425941</td>\n",
       "      <td>5147.050113</td>\n",
       "      <td>141.217945</td>\n",
       "      <td>103.444347</td>\n",
       "    </tr>\n",
       "    <tr>\n",
       "      <th>min</th>\n",
       "      <td>9686.480469</td>\n",
       "      <td>9686.480469</td>\n",
       "      <td>-1041.839843</td>\n",
       "      <td>0.000000</td>\n",
       "    </tr>\n",
       "    <tr>\n",
       "      <th>25%</th>\n",
       "      <td>12977.189942</td>\n",
       "      <td>12981.207276</td>\n",
       "      <td>-51.772461</td>\n",
       "      <td>26.560058</td>\n",
       "    </tr>\n",
       "    <tr>\n",
       "      <th>50%</th>\n",
       "      <td>17011.075196</td>\n",
       "      <td>17008.229492</td>\n",
       "      <td>9.199707</td>\n",
       "      <td>64.465332</td>\n",
       "    </tr>\n",
       "    <tr>\n",
       "      <th>75%</th>\n",
       "      <td>21426.617188</td>\n",
       "      <td>21411.106934</td>\n",
       "      <td>72.541992</td>\n",
       "      <td>129.612549</td>\n",
       "    </tr>\n",
       "    <tr>\n",
       "      <th>max</th>\n",
       "      <td>28675.339844</td>\n",
       "      <td>28645.259766</td>\n",
       "      <td>1020.718750</td>\n",
       "      <td>1041.839843</td>\n",
       "    </tr>\n",
       "  </tbody>\n",
       "</table>\n",
       "</div>"
      ],
      "text/plain": [
       "               Open         Close   Difference  Difference Mod\n",
       "count   2516.000000   2516.000000  2516.000000     2516.000000\n",
       "mean   17601.997740  17606.741572     4.743833       96.232042\n",
       "std     5148.425941   5147.050113   141.217945      103.444347\n",
       "min     9686.480469   9686.480469 -1041.839843        0.000000\n",
       "25%    12977.189942  12981.207276   -51.772461       26.560058\n",
       "50%    17011.075196  17008.229492     9.199707       64.465332\n",
       "75%    21426.617188  21411.106934    72.541992      129.612549\n",
       "max    28675.339844  28645.259766  1020.718750     1041.839843"
      ]
     },
     "execution_count": 90,
     "metadata": {},
     "output_type": "execute_result"
    }
   ],
   "source": [
    "df.describe()"
   ]
  },
  {
   "cell_type": "markdown",
   "metadata": {},
   "source": [
    "### Setting up the range  "
   ]
  },
  {
   "cell_type": "code",
   "execution_count": 91,
   "metadata": {},
   "outputs": [],
   "source": [
    "criteria = [df['Difference'].between(-800, -48.1), df['Difference'].between(-48.1, 48.1), df['Difference'].between(48.1,1000)]\n",
    "values = ['Down', 'Stagnant', 'Up']\n",
    "\n",
    "df['Movement'] = np.select(criteria, values, 'Stagnant')"
   ]
  },
  {
   "cell_type": "code",
   "execution_count": 92,
   "metadata": {},
   "outputs": [
    {
     "data": {
      "text/html": [
       "<div>\n",
       "<style scoped>\n",
       "    .dataframe tbody tr th:only-of-type {\n",
       "        vertical-align: middle;\n",
       "    }\n",
       "\n",
       "    .dataframe tbody tr th {\n",
       "        vertical-align: top;\n",
       "    }\n",
       "\n",
       "    .dataframe thead th {\n",
       "        text-align: right;\n",
       "    }\n",
       "</style>\n",
       "<table border=\"1\" class=\"dataframe\">\n",
       "  <thead>\n",
       "    <tr style=\"text-align: right;\">\n",
       "      <th></th>\n",
       "      <th>Date</th>\n",
       "      <th>Open</th>\n",
       "      <th>Close</th>\n",
       "      <th>Difference</th>\n",
       "      <th>Difference Mod</th>\n",
       "      <th>Movement</th>\n",
       "    </tr>\n",
       "  </thead>\n",
       "  <tbody>\n",
       "    <tr>\n",
       "      <th>0</th>\n",
       "      <td>2010-01-04</td>\n",
       "      <td>10430.690430</td>\n",
       "      <td>10583.959961</td>\n",
       "      <td>153.269531</td>\n",
       "      <td>153.269531</td>\n",
       "      <td>Up</td>\n",
       "    </tr>\n",
       "    <tr>\n",
       "      <th>1</th>\n",
       "      <td>2010-01-05</td>\n",
       "      <td>10584.559570</td>\n",
       "      <td>10572.019531</td>\n",
       "      <td>-12.540039</td>\n",
       "      <td>12.540039</td>\n",
       "      <td>Stagnant</td>\n",
       "    </tr>\n",
       "    <tr>\n",
       "      <th>2</th>\n",
       "      <td>2010-01-06</td>\n",
       "      <td>10564.719727</td>\n",
       "      <td>10573.679688</td>\n",
       "      <td>8.959961</td>\n",
       "      <td>8.959961</td>\n",
       "      <td>Stagnant</td>\n",
       "    </tr>\n",
       "    <tr>\n",
       "      <th>3</th>\n",
       "      <td>2010-01-07</td>\n",
       "      <td>10571.110352</td>\n",
       "      <td>10606.860352</td>\n",
       "      <td>35.750000</td>\n",
       "      <td>35.750000</td>\n",
       "      <td>Stagnant</td>\n",
       "    </tr>\n",
       "    <tr>\n",
       "      <th>4</th>\n",
       "      <td>2010-01-08</td>\n",
       "      <td>10606.400391</td>\n",
       "      <td>10618.190430</td>\n",
       "      <td>11.790039</td>\n",
       "      <td>11.790039</td>\n",
       "      <td>Stagnant</td>\n",
       "    </tr>\n",
       "  </tbody>\n",
       "</table>\n",
       "</div>"
      ],
      "text/plain": [
       "         Date          Open         Close  Difference  Difference Mod  \\\n",
       "0  2010-01-04  10430.690430  10583.959961  153.269531      153.269531   \n",
       "1  2010-01-05  10584.559570  10572.019531  -12.540039       12.540039   \n",
       "2  2010-01-06  10564.719727  10573.679688    8.959961        8.959961   \n",
       "3  2010-01-07  10571.110352  10606.860352   35.750000       35.750000   \n",
       "4  2010-01-08  10606.400391  10618.190430   11.790039       11.790039   \n",
       "\n",
       "   Movement  \n",
       "0        Up  \n",
       "1  Stagnant  \n",
       "2  Stagnant  \n",
       "3  Stagnant  \n",
       "4  Stagnant  "
      ]
     },
     "execution_count": 92,
     "metadata": {},
     "output_type": "execute_result"
    }
   ],
   "source": [
    "df.head()"
   ]
  },
  {
   "cell_type": "markdown",
   "metadata": {},
   "source": [
    "### Showing number of States  "
   ]
  },
  {
   "cell_type": "code",
   "execution_count": 93,
   "metadata": {},
   "outputs": [
    {
     "data": {
      "text/plain": [
       "Stagnant    1014\n",
       "Up           849\n",
       "Down         653\n",
       "Name: Movement, dtype: int64"
      ]
     },
     "execution_count": 93,
     "metadata": {},
     "output_type": "execute_result"
    }
   ],
   "source": [
    "df['Movement'].value_counts()"
   ]
  },
  {
   "cell_type": "code",
   "execution_count": 94,
   "metadata": {},
   "outputs": [],
   "source": [
    "z = list(df['Movement'])"
   ]
  },
  {
   "cell_type": "markdown",
   "metadata": {},
   "source": [
    "### Transition Probability Matrix "
   ]
  },
  {
   "cell_type": "code",
   "execution_count": 95,
   "metadata": {},
   "outputs": [
    {
     "data": {
      "text/html": [
       "<div>\n",
       "<style scoped>\n",
       "    .dataframe tbody tr th:only-of-type {\n",
       "        vertical-align: middle;\n",
       "    }\n",
       "\n",
       "    .dataframe tbody tr th {\n",
       "        vertical-align: top;\n",
       "    }\n",
       "\n",
       "    .dataframe thead th {\n",
       "        text-align: right;\n",
       "    }\n",
       "</style>\n",
       "<table border=\"1\" class=\"dataframe\">\n",
       "  <thead>\n",
       "    <tr style=\"text-align: right;\">\n",
       "      <th>Today</th>\n",
       "      <th>Down</th>\n",
       "      <th>Stagnant</th>\n",
       "      <th>Up</th>\n",
       "    </tr>\n",
       "    <tr>\n",
       "      <th>Tomorrow</th>\n",
       "      <th></th>\n",
       "      <th></th>\n",
       "      <th></th>\n",
       "    </tr>\n",
       "  </thead>\n",
       "  <tbody>\n",
       "    <tr>\n",
       "      <th>Down</th>\n",
       "      <td>0.281776</td>\n",
       "      <td>0.384380</td>\n",
       "      <td>0.333844</td>\n",
       "    </tr>\n",
       "    <tr>\n",
       "      <th>Stagnant</th>\n",
       "      <td>0.206114</td>\n",
       "      <td>0.437870</td>\n",
       "      <td>0.356016</td>\n",
       "    </tr>\n",
       "    <tr>\n",
       "      <th>Up</th>\n",
       "      <td>0.306604</td>\n",
       "      <td>0.376179</td>\n",
       "      <td>0.317217</td>\n",
       "    </tr>\n",
       "  </tbody>\n",
       "</table>\n",
       "</div>"
      ],
      "text/plain": [
       "Today         Down  Stagnant        Up\n",
       "Tomorrow                              \n",
       "Down      0.281776  0.384380  0.333844\n",
       "Stagnant  0.206114  0.437870  0.356016\n",
       "Up        0.306604  0.376179  0.317217"
      ]
     },
     "execution_count": 95,
     "metadata": {},
     "output_type": "execute_result"
    }
   ],
   "source": [
    "pd.crosstab(pd.Series(z[1:],name='Tomorrow'),\n",
    "            pd.Series(z[:-1],name='Today'),normalize=0)"
   ]
  },
  {
   "cell_type": "code",
   "execution_count": 96,
   "metadata": {},
   "outputs": [],
   "source": [
    "from itertools import islice\n",
    "\n",
    "def window(seq, n=2):\n",
    "    \"Sliding window width n from seq.  From old itertools recipes.\"\"\"\n",
    "    it = iter(seq)\n",
    "    result = tuple(islice(it, n))\n",
    "    if len(result) == n:\n",
    "        yield result\n",
    "    for elem in it:\n",
    "        result = result[1:] + (elem,)\n",
    "        yield result"
   ]
  },
  {
   "cell_type": "code",
   "execution_count": 97,
   "metadata": {},
   "outputs": [],
   "source": [
    "import pandas as pd\n",
    "\n",
    "pairs = pd.DataFrame(window(z), columns=['Today', 'Tomorrow'])\n",
    "counts = pairs.groupby('Today')['Tomorrow'].value_counts()\n",
    "probs = (counts).unstack()"
   ]
  },
  {
   "cell_type": "markdown",
   "metadata": {},
   "source": [
    "### Transition Count Matrix"
   ]
  },
  {
   "cell_type": "code",
   "execution_count": 98,
   "metadata": {},
   "outputs": [
    {
     "data": {
      "text/html": [
       "<div>\n",
       "<style scoped>\n",
       "    .dataframe tbody tr th:only-of-type {\n",
       "        vertical-align: middle;\n",
       "    }\n",
       "\n",
       "    .dataframe tbody tr th {\n",
       "        vertical-align: top;\n",
       "    }\n",
       "\n",
       "    .dataframe thead th {\n",
       "        text-align: right;\n",
       "    }\n",
       "</style>\n",
       "<table border=\"1\" class=\"dataframe\">\n",
       "  <thead>\n",
       "    <tr style=\"text-align: right;\">\n",
       "      <th>Tomorrow</th>\n",
       "      <th>Down</th>\n",
       "      <th>Stagnant</th>\n",
       "      <th>Up</th>\n",
       "    </tr>\n",
       "    <tr>\n",
       "      <th>Today</th>\n",
       "      <th></th>\n",
       "      <th></th>\n",
       "      <th></th>\n",
       "    </tr>\n",
       "  </thead>\n",
       "  <tbody>\n",
       "    <tr>\n",
       "      <th>Down</th>\n",
       "      <td>184</td>\n",
       "      <td>209</td>\n",
       "      <td>260</td>\n",
       "    </tr>\n",
       "    <tr>\n",
       "      <th>Stagnant</th>\n",
       "      <td>251</td>\n",
       "      <td>444</td>\n",
       "      <td>319</td>\n",
       "    </tr>\n",
       "    <tr>\n",
       "      <th>Up</th>\n",
       "      <td>218</td>\n",
       "      <td>361</td>\n",
       "      <td>269</td>\n",
       "    </tr>\n",
       "  </tbody>\n",
       "</table>\n",
       "</div>"
      ],
      "text/plain": [
       "Tomorrow  Down  Stagnant   Up\n",
       "Today                        \n",
       "Down       184       209  260\n",
       "Stagnant   251       444  319\n",
       "Up         218       361  269"
      ]
     },
     "execution_count": 98,
     "metadata": {},
     "output_type": "execute_result"
    }
   ],
   "source": [
    "probs"
   ]
  },
  {
   "cell_type": "markdown",
   "metadata": {},
   "source": [
    "# End"
   ]
  }
 ],
 "metadata": {
  "kernelspec": {
   "display_name": "Python 3",
   "language": "python",
   "name": "python3"
  },
  "language_info": {
   "codemirror_mode": {
    "name": "ipython",
    "version": 3
   },
   "file_extension": ".py",
   "mimetype": "text/x-python",
   "name": "python",
   "nbconvert_exporter": "python",
   "pygments_lexer": "ipython3",
   "version": "3.7.7"
  }
 },
 "nbformat": 4,
 "nbformat_minor": 4
}
