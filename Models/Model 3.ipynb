{
 "cells": [
  {
   "cell_type": "markdown",
   "metadata": {},
   "source": [
    "# Importing Libraries "
   ]
  },
  {
   "cell_type": "code",
   "execution_count": 1,
   "metadata": {},
   "outputs": [],
   "source": [
    "import pandas as pd\n",
    "import numpy as np\n",
    "import sys"
   ]
  },
  {
   "cell_type": "markdown",
   "metadata": {},
   "source": [
    "### Importing Data as pandas dataframe and preprocessing it"
   ]
  },
  {
   "cell_type": "code",
   "execution_count": 2,
   "metadata": {},
   "outputs": [],
   "source": [
    "df = pd.read_csv(\"AMZN 2010-2020.csv\",error_bad_lines=False)"
   ]
  },
  {
   "cell_type": "code",
   "execution_count": 3,
   "metadata": {},
   "outputs": [],
   "source": [
    "df = df.drop('High',axis=1)\n",
    "df = df.drop('Low',axis=1)\n",
    "df = df.drop('Adj Close',axis=1)\n",
    "df = df.drop('Volume',axis=1)"
   ]
  },
  {
   "cell_type": "code",
   "execution_count": 4,
   "metadata": {},
   "outputs": [
    {
     "data": {
      "text/html": [
       "<div>\n",
       "<style scoped>\n",
       "    .dataframe tbody tr th:only-of-type {\n",
       "        vertical-align: middle;\n",
       "    }\n",
       "\n",
       "    .dataframe tbody tr th {\n",
       "        vertical-align: top;\n",
       "    }\n",
       "\n",
       "    .dataframe thead th {\n",
       "        text-align: right;\n",
       "    }\n",
       "</style>\n",
       "<table border=\"1\" class=\"dataframe\">\n",
       "  <thead>\n",
       "    <tr style=\"text-align: right;\">\n",
       "      <th></th>\n",
       "      <th>Open</th>\n",
       "      <th>Close</th>\n",
       "    </tr>\n",
       "  </thead>\n",
       "  <tbody>\n",
       "    <tr>\n",
       "      <td>count</td>\n",
       "      <td>2517.000000</td>\n",
       "      <td>2517.000000</td>\n",
       "    </tr>\n",
       "    <tr>\n",
       "      <td>mean</td>\n",
       "      <td>755.984549</td>\n",
       "      <td>755.999992</td>\n",
       "    </tr>\n",
       "    <tr>\n",
       "      <td>std</td>\n",
       "      <td>633.737848</td>\n",
       "      <td>633.711304</td>\n",
       "    </tr>\n",
       "    <tr>\n",
       "      <td>min</td>\n",
       "      <td>105.930000</td>\n",
       "      <td>108.610001</td>\n",
       "    </tr>\n",
       "    <tr>\n",
       "      <td>25%</td>\n",
       "      <td>253.899994</td>\n",
       "      <td>253.369995</td>\n",
       "    </tr>\n",
       "    <tr>\n",
       "      <td>50%</td>\n",
       "      <td>430.070007</td>\n",
       "      <td>429.920013</td>\n",
       "    </tr>\n",
       "    <tr>\n",
       "      <td>75%</td>\n",
       "      <td>1141.000000</td>\n",
       "      <td>1152.349976</td>\n",
       "    </tr>\n",
       "    <tr>\n",
       "      <td>max</td>\n",
       "      <td>2500.000000</td>\n",
       "      <td>2497.939941</td>\n",
       "    </tr>\n",
       "  </tbody>\n",
       "</table>\n",
       "</div>"
      ],
      "text/plain": [
       "              Open        Close\n",
       "count  2517.000000  2517.000000\n",
       "mean    755.984549   755.999992\n",
       "std     633.737848   633.711304\n",
       "min     105.930000   108.610001\n",
       "25%     253.899994   253.369995\n",
       "50%     430.070007   429.920013\n",
       "75%    1141.000000  1152.349976\n",
       "max    2500.000000  2497.939941"
      ]
     },
     "execution_count": 4,
     "metadata": {},
     "output_type": "execute_result"
    }
   ],
   "source": [
    "df.describe()"
   ]
  },
  {
   "cell_type": "code",
   "execution_count": 5,
   "metadata": {},
   "outputs": [
    {
     "data": {
      "text/html": [
       "<div>\n",
       "<style scoped>\n",
       "    .dataframe tbody tr th:only-of-type {\n",
       "        vertical-align: middle;\n",
       "    }\n",
       "\n",
       "    .dataframe tbody tr th {\n",
       "        vertical-align: top;\n",
       "    }\n",
       "\n",
       "    .dataframe thead th {\n",
       "        text-align: right;\n",
       "    }\n",
       "</style>\n",
       "<table border=\"1\" class=\"dataframe\">\n",
       "  <thead>\n",
       "    <tr style=\"text-align: right;\">\n",
       "      <th></th>\n",
       "      <th>Date</th>\n",
       "      <th>Open</th>\n",
       "      <th>Close</th>\n",
       "    </tr>\n",
       "  </thead>\n",
       "  <tbody>\n",
       "    <tr>\n",
       "      <td>0</td>\n",
       "      <td>2010-06-01</td>\n",
       "      <td>124.970001</td>\n",
       "      <td>123.239998</td>\n",
       "    </tr>\n",
       "    <tr>\n",
       "      <td>1</td>\n",
       "      <td>2010-06-02</td>\n",
       "      <td>124.019997</td>\n",
       "      <td>126.309998</td>\n",
       "    </tr>\n",
       "    <tr>\n",
       "      <td>2</td>\n",
       "      <td>2010-06-03</td>\n",
       "      <td>126.250000</td>\n",
       "      <td>128.759995</td>\n",
       "    </tr>\n",
       "    <tr>\n",
       "      <td>3</td>\n",
       "      <td>2010-06-04</td>\n",
       "      <td>126.330002</td>\n",
       "      <td>122.769997</td>\n",
       "    </tr>\n",
       "    <tr>\n",
       "      <td>4</td>\n",
       "      <td>2010-06-07</td>\n",
       "      <td>125.839996</td>\n",
       "      <td>122.010002</td>\n",
       "    </tr>\n",
       "  </tbody>\n",
       "</table>\n",
       "</div>"
      ],
      "text/plain": [
       "         Date        Open       Close\n",
       "0  2010-06-01  124.970001  123.239998\n",
       "1  2010-06-02  124.019997  126.309998\n",
       "2  2010-06-03  126.250000  128.759995\n",
       "3  2010-06-04  126.330002  122.769997\n",
       "4  2010-06-07  125.839996  122.010002"
      ]
     },
     "execution_count": 5,
     "metadata": {},
     "output_type": "execute_result"
    }
   ],
   "source": [
    "df.head()"
   ]
  },
  {
   "cell_type": "markdown",
   "metadata": {},
   "source": [
    "### Setting up the parameters for the model "
   ]
  },
  {
   "cell_type": "code",
   "execution_count": 6,
   "metadata": {},
   "outputs": [],
   "source": [
    "df['Difference'] = df['Close'].diff(-1)"
   ]
  },
  {
   "cell_type": "code",
   "execution_count": 7,
   "metadata": {},
   "outputs": [],
   "source": [
    "df['Change Mod'] = df['Difference'].diff(-1).abs() / df['Open']"
   ]
  },
  {
   "cell_type": "code",
   "execution_count": 8,
   "metadata": {},
   "outputs": [
    {
     "data": {
      "text/html": [
       "<div>\n",
       "<style scoped>\n",
       "    .dataframe tbody tr th:only-of-type {\n",
       "        vertical-align: middle;\n",
       "    }\n",
       "\n",
       "    .dataframe tbody tr th {\n",
       "        vertical-align: top;\n",
       "    }\n",
       "\n",
       "    .dataframe thead th {\n",
       "        text-align: right;\n",
       "    }\n",
       "</style>\n",
       "<table border=\"1\" class=\"dataframe\">\n",
       "  <thead>\n",
       "    <tr style=\"text-align: right;\">\n",
       "      <th></th>\n",
       "      <th>Date</th>\n",
       "      <th>Open</th>\n",
       "      <th>Close</th>\n",
       "      <th>Difference</th>\n",
       "      <th>Change Mod</th>\n",
       "    </tr>\n",
       "  </thead>\n",
       "  <tbody>\n",
       "    <tr>\n",
       "      <td>0</td>\n",
       "      <td>2010-06-01</td>\n",
       "      <td>124.970001</td>\n",
       "      <td>123.239998</td>\n",
       "      <td>-3.070000</td>\n",
       "      <td>0.004961</td>\n",
       "    </tr>\n",
       "    <tr>\n",
       "      <td>1</td>\n",
       "      <td>2010-06-02</td>\n",
       "      <td>124.019997</td>\n",
       "      <td>126.309998</td>\n",
       "      <td>-2.449997</td>\n",
       "      <td>0.068054</td>\n",
       "    </tr>\n",
       "    <tr>\n",
       "      <td>2</td>\n",
       "      <td>2010-06-03</td>\n",
       "      <td>126.250000</td>\n",
       "      <td>128.759995</td>\n",
       "      <td>5.989998</td>\n",
       "      <td>0.041426</td>\n",
       "    </tr>\n",
       "    <tr>\n",
       "      <td>3</td>\n",
       "      <td>2010-06-04</td>\n",
       "      <td>126.330002</td>\n",
       "      <td>122.769997</td>\n",
       "      <td>0.759995</td>\n",
       "      <td>0.019077</td>\n",
       "    </tr>\n",
       "    <tr>\n",
       "      <td>4</td>\n",
       "      <td>2010-06-07</td>\n",
       "      <td>125.839996</td>\n",
       "      <td>122.010002</td>\n",
       "      <td>3.170006</td>\n",
       "      <td>0.017800</td>\n",
       "    </tr>\n",
       "  </tbody>\n",
       "</table>\n",
       "</div>"
      ],
      "text/plain": [
       "         Date        Open       Close  Difference  Change Mod\n",
       "0  2010-06-01  124.970001  123.239998   -3.070000    0.004961\n",
       "1  2010-06-02  124.019997  126.309998   -2.449997    0.068054\n",
       "2  2010-06-03  126.250000  128.759995    5.989998    0.041426\n",
       "3  2010-06-04  126.330002  122.769997    0.759995    0.019077\n",
       "4  2010-06-07  125.839996  122.010002    3.170006    0.017800"
      ]
     },
     "execution_count": 8,
     "metadata": {},
     "output_type": "execute_result"
    }
   ],
   "source": [
    "df.head()"
   ]
  },
  {
   "cell_type": "code",
   "execution_count": 9,
   "metadata": {},
   "outputs": [
    {
     "data": {
      "text/html": [
       "<div>\n",
       "<style scoped>\n",
       "    .dataframe tbody tr th:only-of-type {\n",
       "        vertical-align: middle;\n",
       "    }\n",
       "\n",
       "    .dataframe tbody tr th {\n",
       "        vertical-align: top;\n",
       "    }\n",
       "\n",
       "    .dataframe thead th {\n",
       "        text-align: right;\n",
       "    }\n",
       "</style>\n",
       "<table border=\"1\" class=\"dataframe\">\n",
       "  <thead>\n",
       "    <tr style=\"text-align: right;\">\n",
       "      <th></th>\n",
       "      <th>Open</th>\n",
       "      <th>Close</th>\n",
       "      <th>Difference</th>\n",
       "      <th>Change Mod</th>\n",
       "    </tr>\n",
       "  </thead>\n",
       "  <tbody>\n",
       "    <tr>\n",
       "      <td>count</td>\n",
       "      <td>2517.000000</td>\n",
       "      <td>2517.000000</td>\n",
       "      <td>2516.000000</td>\n",
       "      <td>2.515000e+03</td>\n",
       "    </tr>\n",
       "    <tr>\n",
       "      <td>mean</td>\n",
       "      <td>755.984549</td>\n",
       "      <td>755.999992</td>\n",
       "      <td>-0.921753</td>\n",
       "      <td>1.975634e-02</td>\n",
       "    </tr>\n",
       "    <tr>\n",
       "      <td>std</td>\n",
       "      <td>633.737848</td>\n",
       "      <td>633.711304</td>\n",
       "      <td>19.249531</td>\n",
       "      <td>2.011001e-02</td>\n",
       "    </tr>\n",
       "    <tr>\n",
       "      <td>min</td>\n",
       "      <td>105.930000</td>\n",
       "      <td>108.610001</td>\n",
       "      <td>-138.039917</td>\n",
       "      <td>7.060282e-08</td>\n",
       "    </tr>\n",
       "    <tr>\n",
       "      <td>25%</td>\n",
       "      <td>253.899994</td>\n",
       "      <td>253.369995</td>\n",
       "      <td>-5.349975</td>\n",
       "      <td>6.755031e-03</td>\n",
       "    </tr>\n",
       "    <tr>\n",
       "      <td>50%</td>\n",
       "      <td>430.070007</td>\n",
       "      <td>429.920013</td>\n",
       "      <td>-0.500000</td>\n",
       "      <td>1.416592e-02</td>\n",
       "    </tr>\n",
       "    <tr>\n",
       "      <td>75%</td>\n",
       "      <td>1141.000000</td>\n",
       "      <td>1152.349976</td>\n",
       "      <td>3.575003</td>\n",
       "      <td>2.626529e-02</td>\n",
       "    </tr>\n",
       "    <tr>\n",
       "      <td>max</td>\n",
       "      <td>2500.000000</td>\n",
       "      <td>2497.939941</td>\n",
       "      <td>187.959961</td>\n",
       "      <td>1.666971e-01</td>\n",
       "    </tr>\n",
       "  </tbody>\n",
       "</table>\n",
       "</div>"
      ],
      "text/plain": [
       "              Open        Close   Difference    Change Mod\n",
       "count  2517.000000  2517.000000  2516.000000  2.515000e+03\n",
       "mean    755.984549   755.999992    -0.921753  1.975634e-02\n",
       "std     633.737848   633.711304    19.249531  2.011001e-02\n",
       "min     105.930000   108.610001  -138.039917  7.060282e-08\n",
       "25%     253.899994   253.369995    -5.349975  6.755031e-03\n",
       "50%     430.070007   429.920013    -0.500000  1.416592e-02\n",
       "75%    1141.000000  1152.349976     3.575003  2.626529e-02\n",
       "max    2500.000000  2497.939941   187.959961  1.666971e-01"
      ]
     },
     "execution_count": 9,
     "metadata": {},
     "output_type": "execute_result"
    }
   ],
   "source": [
    "df.describe()"
   ]
  },
  {
   "cell_type": "markdown",
   "metadata": {},
   "source": [
    "### Setting up the range  "
   ]
  },
  {
   "cell_type": "code",
   "execution_count": 10,
   "metadata": {},
   "outputs": [],
   "source": [
    "criteria = [df['Difference'].between(-139, -df['Change Mod']*df['Open']/2), df['Difference'].between( -df['Change Mod']*df['Open']/2, df['Change Mod']*df['Open']/2), df['Difference'].between(df['Change Mod']*df['Open']/2,188)]\n",
    "values = ['Down', 'Stagnant', 'Up']\n",
    "\n",
    "df['Movement'] = np.select(criteria, values, 'Stagnant')"
   ]
  },
  {
   "cell_type": "code",
   "execution_count": 11,
   "metadata": {},
   "outputs": [
    {
     "data": {
      "text/html": [
       "<div>\n",
       "<style scoped>\n",
       "    .dataframe tbody tr th:only-of-type {\n",
       "        vertical-align: middle;\n",
       "    }\n",
       "\n",
       "    .dataframe tbody tr th {\n",
       "        vertical-align: top;\n",
       "    }\n",
       "\n",
       "    .dataframe thead th {\n",
       "        text-align: right;\n",
       "    }\n",
       "</style>\n",
       "<table border=\"1\" class=\"dataframe\">\n",
       "  <thead>\n",
       "    <tr style=\"text-align: right;\">\n",
       "      <th></th>\n",
       "      <th>Date</th>\n",
       "      <th>Open</th>\n",
       "      <th>Close</th>\n",
       "      <th>Difference</th>\n",
       "      <th>Change Mod</th>\n",
       "      <th>Movement</th>\n",
       "    </tr>\n",
       "  </thead>\n",
       "  <tbody>\n",
       "    <tr>\n",
       "      <td>0</td>\n",
       "      <td>2010-06-01</td>\n",
       "      <td>124.970001</td>\n",
       "      <td>123.239998</td>\n",
       "      <td>-3.070000</td>\n",
       "      <td>0.004961</td>\n",
       "      <td>Down</td>\n",
       "    </tr>\n",
       "    <tr>\n",
       "      <td>1</td>\n",
       "      <td>2010-06-02</td>\n",
       "      <td>124.019997</td>\n",
       "      <td>126.309998</td>\n",
       "      <td>-2.449997</td>\n",
       "      <td>0.068054</td>\n",
       "      <td>Stagnant</td>\n",
       "    </tr>\n",
       "    <tr>\n",
       "      <td>2</td>\n",
       "      <td>2010-06-03</td>\n",
       "      <td>126.250000</td>\n",
       "      <td>128.759995</td>\n",
       "      <td>5.989998</td>\n",
       "      <td>0.041426</td>\n",
       "      <td>Up</td>\n",
       "    </tr>\n",
       "    <tr>\n",
       "      <td>3</td>\n",
       "      <td>2010-06-04</td>\n",
       "      <td>126.330002</td>\n",
       "      <td>122.769997</td>\n",
       "      <td>0.759995</td>\n",
       "      <td>0.019077</td>\n",
       "      <td>Stagnant</td>\n",
       "    </tr>\n",
       "    <tr>\n",
       "      <td>4</td>\n",
       "      <td>2010-06-07</td>\n",
       "      <td>125.839996</td>\n",
       "      <td>122.010002</td>\n",
       "      <td>3.170006</td>\n",
       "      <td>0.017800</td>\n",
       "      <td>Up</td>\n",
       "    </tr>\n",
       "  </tbody>\n",
       "</table>\n",
       "</div>"
      ],
      "text/plain": [
       "         Date        Open       Close  Difference  Change Mod  Movement\n",
       "0  2010-06-01  124.970001  123.239998   -3.070000    0.004961      Down\n",
       "1  2010-06-02  124.019997  126.309998   -2.449997    0.068054  Stagnant\n",
       "2  2010-06-03  126.250000  128.759995    5.989998    0.041426        Up\n",
       "3  2010-06-04  126.330002  122.769997    0.759995    0.019077  Stagnant\n",
       "4  2010-06-07  125.839996  122.010002    3.170006    0.017800        Up"
      ]
     },
     "execution_count": 11,
     "metadata": {},
     "output_type": "execute_result"
    }
   ],
   "source": [
    "df.head()"
   ]
  },
  {
   "cell_type": "markdown",
   "metadata": {},
   "source": [
    "### Showing number of States  "
   ]
  },
  {
   "cell_type": "code",
   "execution_count": 12,
   "metadata": {},
   "outputs": [
    {
     "data": {
      "text/plain": [
       "Stagnant    913\n",
       "Down        893\n",
       "Up          711\n",
       "Name: Movement, dtype: int64"
      ]
     },
     "execution_count": 12,
     "metadata": {},
     "output_type": "execute_result"
    }
   ],
   "source": [
    "df['Movement'].value_counts()"
   ]
  },
  {
   "cell_type": "code",
   "execution_count": 13,
   "metadata": {},
   "outputs": [],
   "source": [
    "z = list(df['Movement'])"
   ]
  },
  {
   "cell_type": "markdown",
   "metadata": {},
   "source": [
    "### Transition Probability Matrix "
   ]
  },
  {
   "cell_type": "code",
   "execution_count": 14,
   "metadata": {},
   "outputs": [
    {
     "data": {
      "text/html": [
       "<div>\n",
       "<style scoped>\n",
       "    .dataframe tbody tr th:only-of-type {\n",
       "        vertical-align: middle;\n",
       "    }\n",
       "\n",
       "    .dataframe tbody tr th {\n",
       "        vertical-align: top;\n",
       "    }\n",
       "\n",
       "    .dataframe thead th {\n",
       "        text-align: right;\n",
       "    }\n",
       "</style>\n",
       "<table border=\"1\" class=\"dataframe\">\n",
       "  <thead>\n",
       "    <tr style=\"text-align: right;\">\n",
       "      <th>Today</th>\n",
       "      <th>Down</th>\n",
       "      <th>Stagnant</th>\n",
       "      <th>Up</th>\n",
       "    </tr>\n",
       "    <tr>\n",
       "      <th>Tomorrow</th>\n",
       "      <th></th>\n",
       "      <th></th>\n",
       "      <th></th>\n",
       "    </tr>\n",
       "  </thead>\n",
       "  <tbody>\n",
       "    <tr>\n",
       "      <td>Down</td>\n",
       "      <td>0.380045</td>\n",
       "      <td>0.455157</td>\n",
       "      <td>0.164798</td>\n",
       "    </tr>\n",
       "    <tr>\n",
       "      <td>Stagnant</td>\n",
       "      <td>0.434830</td>\n",
       "      <td>0.193866</td>\n",
       "      <td>0.371303</td>\n",
       "    </tr>\n",
       "    <tr>\n",
       "      <td>Up</td>\n",
       "      <td>0.220816</td>\n",
       "      <td>0.462729</td>\n",
       "      <td>0.316456</td>\n",
       "    </tr>\n",
       "  </tbody>\n",
       "</table>\n",
       "</div>"
      ],
      "text/plain": [
       "Today         Down  Stagnant        Up\n",
       "Tomorrow                              \n",
       "Down      0.380045  0.455157  0.164798\n",
       "Stagnant  0.434830  0.193866  0.371303\n",
       "Up        0.220816  0.462729  0.316456"
      ]
     },
     "execution_count": 14,
     "metadata": {},
     "output_type": "execute_result"
    }
   ],
   "source": [
    "pd.crosstab(pd.Series(z[1:],name='Tomorrow'),\n",
    "            pd.Series(z[:-1],name='Today'),normalize=0)"
   ]
  },
  {
   "cell_type": "code",
   "execution_count": 15,
   "metadata": {},
   "outputs": [],
   "source": [
    "from itertools import islice\n",
    "\n",
    "def window(seq, n=2):\n",
    "    \"Sliding window width n from seq.  From old itertools recipes.\"\"\"\n",
    "    it = iter(seq)\n",
    "    result = tuple(islice(it, n))\n",
    "    if len(result) == n:\n",
    "        yield result\n",
    "    for elem in it:\n",
    "        result = result[1:] + (elem,)\n",
    "        yield result"
   ]
  },
  {
   "cell_type": "code",
   "execution_count": 16,
   "metadata": {},
   "outputs": [],
   "source": [
    "import pandas as pd\n",
    "\n",
    "pairs = pd.DataFrame(window(z), columns=['Today', 'Tomorrow'])\n",
    "counts = pairs.groupby('Today')['Tomorrow'].value_counts()\n",
    "probs = (counts).unstack()"
   ]
  },
  {
   "cell_type": "markdown",
   "metadata": {},
   "source": [
    "### Transition Count Matrix"
   ]
  },
  {
   "cell_type": "code",
   "execution_count": 17,
   "metadata": {},
   "outputs": [
    {
     "data": {
      "text/html": [
       "<div>\n",
       "<style scoped>\n",
       "    .dataframe tbody tr th:only-of-type {\n",
       "        vertical-align: middle;\n",
       "    }\n",
       "\n",
       "    .dataframe tbody tr th {\n",
       "        vertical-align: top;\n",
       "    }\n",
       "\n",
       "    .dataframe thead th {\n",
       "        text-align: right;\n",
       "    }\n",
       "</style>\n",
       "<table border=\"1\" class=\"dataframe\">\n",
       "  <thead>\n",
       "    <tr style=\"text-align: right;\">\n",
       "      <th>Tomorrow</th>\n",
       "      <th>Down</th>\n",
       "      <th>Stagnant</th>\n",
       "      <th>Up</th>\n",
       "    </tr>\n",
       "    <tr>\n",
       "      <th>Today</th>\n",
       "      <th></th>\n",
       "      <th></th>\n",
       "      <th></th>\n",
       "    </tr>\n",
       "  </thead>\n",
       "  <tbody>\n",
       "    <tr>\n",
       "      <td>Down</td>\n",
       "      <td>339</td>\n",
       "      <td>397</td>\n",
       "      <td>157</td>\n",
       "    </tr>\n",
       "    <tr>\n",
       "      <td>Stagnant</td>\n",
       "      <td>406</td>\n",
       "      <td>177</td>\n",
       "      <td>329</td>\n",
       "    </tr>\n",
       "    <tr>\n",
       "      <td>Up</td>\n",
       "      <td>147</td>\n",
       "      <td>339</td>\n",
       "      <td>225</td>\n",
       "    </tr>\n",
       "  </tbody>\n",
       "</table>\n",
       "</div>"
      ],
      "text/plain": [
       "Tomorrow  Down  Stagnant   Up\n",
       "Today                        \n",
       "Down       339       397  157\n",
       "Stagnant   406       177  329\n",
       "Up         147       339  225"
      ]
     },
     "execution_count": 17,
     "metadata": {},
     "output_type": "execute_result"
    }
   ],
   "source": [
    "probs"
   ]
  },
  {
   "cell_type": "markdown",
   "metadata": {},
   "source": [
    "# End"
   ]
  }
 ],
 "metadata": {
  "kernelspec": {
   "display_name": "Python 3",
   "language": "python",
   "name": "python3"
  },
  "language_info": {
   "codemirror_mode": {
    "name": "ipython",
    "version": 3
   },
   "file_extension": ".py",
   "mimetype": "text/x-python",
   "name": "python",
   "nbconvert_exporter": "python",
   "pygments_lexer": "ipython3",
   "version": "3.8.3"
  }
 },
 "nbformat": 4,
 "nbformat_minor": 4
}
